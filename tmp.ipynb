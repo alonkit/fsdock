{
 "cells": [
  {
   "cell_type": "code",
   "execution_count": 4,
   "metadata": {},
   "outputs": [],
   "source": [
    "import zipfile\n",
    "import pickle\n",
    "import torch\n",
    "def save_objects_to_zip(zip_filename, **objects):\n",
    "    with zipfile.ZipFile(zip_filename, 'w') as zipf:\n",
    "        for name, obj in objects.items():\n",
    "            with zipf.open(name + '.pkl','w') as obj_f:\n",
    "                torch.save(obj, obj_f)\n",
    "\n",
    "# Example usage\n",
    "obj1 = {'key1': 'value1', 'key2': 'value2'}\n",
    "obj2 = [1, 2, 3, 4, 5]\n",
    "obj3 = \"This is a test string.\"\n",
    "\n",
    "save_objects_to_zip('objects.zip', obj1=obj1, obj2=obj2, obj3=obj3)"
   ]
  },
  {
   "cell_type": "code",
   "execution_count": 5,
   "metadata": {},
   "outputs": [
    {
     "name": "stdout",
     "output_type": "stream",
     "text": [
      "Loaded obj1: {'key1': 'value1', 'key2': 'value2'}\n",
      "Loaded obj2: [1, 2, 3, 4, 5]\n"
     ]
    }
   ],
   "source": [
    "def load_object_from_zip(zip_filename, object_name):\n",
    "    with zipfile.ZipFile(zip_filename, 'r') as zipf:\n",
    "        with zipf.open(object_name + '.pkl') as obj_f:\n",
    "            return torch.load(obj_f) \n",
    "\n",
    "# Example usage\n",
    "loaded_obj1 = load_object_from_zip('objects.zip', 'obj1')\n",
    "loaded_obj2 = load_object_from_zip('objects.zip', 'obj2')\n",
    "\n",
    "print(\"Loaded obj1:\", loaded_obj1)\n",
    "print(\"Loaded obj2:\", loaded_obj2)"
   ]
  },
  {
   "cell_type": "code",
   "execution_count": 3,
   "metadata": {},
   "outputs": [
    {
     "ename": "TypeError",
     "evalue": "write() missing 1 required positional argument: 'data'",
     "output_type": "error",
     "traceback": [
      "\u001b[0;31m---------------------------------------------------------------------------\u001b[0m",
      "\u001b[0;31mTypeError\u001b[0m                                 Traceback (most recent call last)",
      "Cell \u001b[0;32mIn[3], line 2\u001b[0m\n\u001b[1;32m      1\u001b[0m zipf \u001b[38;5;241m=\u001b[39m zipfile\u001b[38;5;241m.\u001b[39mZipFile(\u001b[38;5;124m'\u001b[39m\u001b[38;5;124mobjects.zip\u001b[39m\u001b[38;5;124m'\u001b[39m, \u001b[38;5;124m'\u001b[39m\u001b[38;5;124mw\u001b[39m\u001b[38;5;124m'\u001b[39m)\n\u001b[0;32m----> 2\u001b[0m \u001b[43mzipf\u001b[49m\u001b[38;5;241;43m.\u001b[39;49m\u001b[43mopen\u001b[49m\u001b[43m(\u001b[49m\u001b[38;5;124;43m'\u001b[39;49m\u001b[38;5;124;43mobj1\u001b[39;49m\u001b[38;5;124;43m'\u001b[39;49m\u001b[43m,\u001b[49m\u001b[38;5;124;43m'\u001b[39;49m\u001b[38;5;124;43mw\u001b[39;49m\u001b[38;5;124;43m'\u001b[39;49m\u001b[43m)\u001b[49m\u001b[38;5;241;43m.\u001b[39;49m\u001b[43mwrite\u001b[49m\u001b[43m(\u001b[49m\u001b[43m)\u001b[49m\n",
      "\u001b[0;31mTypeError\u001b[0m: write() missing 1 required positional argument: 'data'"
     ]
    }
   ],
   "source": [
    "zipf = zipfile.ZipFile('objects.zip', 'w')\n",
    "zipf.open('obj1','w').write()\n"
   ]
  },
  {
   "cell_type": "code",
   "execution_count": 4,
   "metadata": {},
   "outputs": [],
   "source": [
    "zipf.close()"
   ]
  },
  {
   "cell_type": "code",
   "execution_count": null,
   "metadata": {},
   "outputs": [],
   "source": []
  }
 ],
 "metadata": {
  "kernelspec": {
   "display_name": "FSdock",
   "language": "python",
   "name": "python3"
  },
  "language_info": {
   "codemirror_mode": {
    "name": "ipython",
    "version": 3
   },
   "file_extension": ".py",
   "mimetype": "text/x-python",
   "name": "python",
   "nbconvert_exporter": "python",
   "pygments_lexer": "ipython3",
   "version": "3.9.18"
  }
 },
 "nbformat": 4,
 "nbformat_minor": 2
}
